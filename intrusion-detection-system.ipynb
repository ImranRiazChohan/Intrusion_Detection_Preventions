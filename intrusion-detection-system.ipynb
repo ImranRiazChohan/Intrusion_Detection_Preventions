{
 "cells": [
  {
   "cell_type": "markdown",
   "id": "cb525a55",
   "metadata": {
    "papermill": {
     "duration": 0.019084,
     "end_time": "2023-06-01T20:25:43.961845",
     "exception": false,
     "start_time": "2023-06-01T20:25:43.942761",
     "status": "completed"
    },
    "tags": []
   },
   "source": [
    "# IMPORTING LIBRARIES"
   ]
  },
  {
   "cell_type": "code",
   "execution_count": 1,
   "id": "e3c5b3e7",
   "metadata": {
    "execution": {
     "iopub.execute_input": "2023-06-01T20:25:44.001661Z",
     "iopub.status.busy": "2023-06-01T20:25:44.001065Z",
     "iopub.status.idle": "2023-06-01T20:25:48.046146Z",
     "shell.execute_reply": "2023-06-01T20:25:48.045021Z"
    },
    "papermill": {
     "duration": 4.068229,
     "end_time": "2023-06-01T20:25:48.049214",
     "exception": false,
     "start_time": "2023-06-01T20:25:43.980985",
     "status": "completed"
    },
    "tags": []
   },
   "outputs": [],
   "source": [
    "import numpy as np\n",
    "import pandas as pd\n",
    "import seaborn as sns\n",
    "import matplotlib.pyplot as plt\n",
    "from pandas.api.types import is_numeric_dtype\n",
    "import warnings\n",
    "from sklearn import tree\n",
    "from sklearn.model_selection import train_test_split\n",
    "from sklearn.neighbors import KNeighborsClassifier\n",
    "from sklearn.linear_model import LogisticRegression\n",
    "from sklearn.preprocessing import StandardScaler, LabelEncoder\n",
    "from sklearn.ensemble import RandomForestClassifier\n",
    "from sklearn.feature_selection import RFE\n",
    "import itertools\n",
    "from sklearn.metrics import classification_report,confusion_matrix"
   ]
  },
  {
   "cell_type": "markdown",
   "id": "35ad9bcb",
   "metadata": {
    "papermill": {
     "duration": 0.017885,
     "end_time": "2023-06-01T20:25:48.085455",
     "exception": false,
     "start_time": "2023-06-01T20:25:48.067570",
     "status": "completed"
    },
    "tags": []
   },
   "source": [
    "# DATA COLLECTION"
   ]
  },
  {
   "cell_type": "code",
   "execution_count": 3,
   "id": "3f70125d",
   "metadata": {
    "execution": {
     "iopub.execute_input": "2023-06-01T20:25:48.124221Z",
     "iopub.status.busy": "2023-06-01T20:25:48.123768Z",
     "iopub.status.idle": "2023-06-01T20:25:48.328466Z",
     "shell.execute_reply": "2023-06-01T20:25:48.327356Z"
    },
    "papermill": {
     "duration": 0.227492,
     "end_time": "2023-06-01T20:25:48.331194",
     "exception": false,
     "start_time": "2023-06-01T20:25:48.103702",
     "status": "completed"
    },
    "tags": []
   },
   "outputs": [],
   "source": [
    "train = pd.read_csv('./Data/Train_data.csv')"
   ]
  },
  {
   "cell_type": "code",
   "execution_count": 4,
   "id": "4fb1cc0e",
   "metadata": {
    "execution": {
     "iopub.execute_input": "2023-06-01T20:25:48.369520Z",
     "iopub.status.busy": "2023-06-01T20:25:48.369127Z",
     "iopub.status.idle": "2023-06-01T20:25:48.523905Z",
     "shell.execute_reply": "2023-06-01T20:25:48.522796Z"
    },
    "papermill": {
     "duration": 0.177408,
     "end_time": "2023-06-01T20:25:48.526912",
     "exception": false,
     "start_time": "2023-06-01T20:25:48.349504",
     "status": "completed"
    },
    "tags": []
   },
   "outputs": [],
   "source": [
    "test = pd.read_csv('./Data/Test.data.csv')"
   ]
  },
  {
   "cell_type": "code",
   "execution_count": 5,
   "id": "95d6bd06",
   "metadata": {
    "execution": {
     "iopub.execute_input": "2023-06-01T20:25:48.565056Z",
     "iopub.status.busy": "2023-06-01T20:25:48.564650Z",
     "iopub.status.idle": "2023-06-01T20:25:48.616102Z",
     "shell.execute_reply": "2023-06-01T20:25:48.614902Z"
    },
    "papermill": {
     "duration": 0.074175,
     "end_time": "2023-06-01T20:25:48.619258",
     "exception": false,
     "start_time": "2023-06-01T20:25:48.545083",
     "status": "completed"
    },
    "tags": []
   },
   "outputs": [
    {
     "data": {
      "text/html": [
       "<div>\n",
       "<style scoped>\n",
       "    .dataframe tbody tr th:only-of-type {\n",
       "        vertical-align: middle;\n",
       "    }\n",
       "\n",
       "    .dataframe tbody tr th {\n",
       "        vertical-align: top;\n",
       "    }\n",
       "\n",
       "    .dataframe thead th {\n",
       "        text-align: right;\n",
       "    }\n",
       "</style>\n",
       "<table border=\"1\" class=\"dataframe\">\n",
       "  <thead>\n",
       "    <tr style=\"text-align: right;\">\n",
       "      <th></th>\n",
       "      <th>duration</th>\n",
       "      <th>protocol_type</th>\n",
       "      <th>service</th>\n",
       "      <th>flag</th>\n",
       "      <th>src_bytes</th>\n",
       "      <th>dst_bytes</th>\n",
       "      <th>land</th>\n",
       "      <th>wrong_fragment</th>\n",
       "      <th>urgent</th>\n",
       "      <th>hot</th>\n",
       "      <th>...</th>\n",
       "      <th>dst_host_srv_count</th>\n",
       "      <th>dst_host_same_srv_rate</th>\n",
       "      <th>dst_host_diff_srv_rate</th>\n",
       "      <th>dst_host_same_src_port_rate</th>\n",
       "      <th>dst_host_srv_diff_host_rate</th>\n",
       "      <th>dst_host_serror_rate</th>\n",
       "      <th>dst_host_srv_serror_rate</th>\n",
       "      <th>dst_host_rerror_rate</th>\n",
       "      <th>dst_host_srv_rerror_rate</th>\n",
       "      <th>class</th>\n",
       "    </tr>\n",
       "  </thead>\n",
       "  <tbody>\n",
       "    <tr>\n",
       "      <th>0</th>\n",
       "      <td>0</td>\n",
       "      <td>tcp</td>\n",
       "      <td>ftp_data</td>\n",
       "      <td>SF</td>\n",
       "      <td>491</td>\n",
       "      <td>0</td>\n",
       "      <td>0</td>\n",
       "      <td>0</td>\n",
       "      <td>0</td>\n",
       "      <td>0</td>\n",
       "      <td>...</td>\n",
       "      <td>25</td>\n",
       "      <td>0.17</td>\n",
       "      <td>0.03</td>\n",
       "      <td>0.17</td>\n",
       "      <td>0.00</td>\n",
       "      <td>0.00</td>\n",
       "      <td>0.00</td>\n",
       "      <td>0.05</td>\n",
       "      <td>0.00</td>\n",
       "      <td>normal</td>\n",
       "    </tr>\n",
       "    <tr>\n",
       "      <th>1</th>\n",
       "      <td>0</td>\n",
       "      <td>udp</td>\n",
       "      <td>other</td>\n",
       "      <td>SF</td>\n",
       "      <td>146</td>\n",
       "      <td>0</td>\n",
       "      <td>0</td>\n",
       "      <td>0</td>\n",
       "      <td>0</td>\n",
       "      <td>0</td>\n",
       "      <td>...</td>\n",
       "      <td>1</td>\n",
       "      <td>0.00</td>\n",
       "      <td>0.60</td>\n",
       "      <td>0.88</td>\n",
       "      <td>0.00</td>\n",
       "      <td>0.00</td>\n",
       "      <td>0.00</td>\n",
       "      <td>0.00</td>\n",
       "      <td>0.00</td>\n",
       "      <td>normal</td>\n",
       "    </tr>\n",
       "    <tr>\n",
       "      <th>2</th>\n",
       "      <td>0</td>\n",
       "      <td>tcp</td>\n",
       "      <td>private</td>\n",
       "      <td>S0</td>\n",
       "      <td>0</td>\n",
       "      <td>0</td>\n",
       "      <td>0</td>\n",
       "      <td>0</td>\n",
       "      <td>0</td>\n",
       "      <td>0</td>\n",
       "      <td>...</td>\n",
       "      <td>26</td>\n",
       "      <td>0.10</td>\n",
       "      <td>0.05</td>\n",
       "      <td>0.00</td>\n",
       "      <td>0.00</td>\n",
       "      <td>1.00</td>\n",
       "      <td>1.00</td>\n",
       "      <td>0.00</td>\n",
       "      <td>0.00</td>\n",
       "      <td>anomaly</td>\n",
       "    </tr>\n",
       "    <tr>\n",
       "      <th>3</th>\n",
       "      <td>0</td>\n",
       "      <td>tcp</td>\n",
       "      <td>http</td>\n",
       "      <td>SF</td>\n",
       "      <td>232</td>\n",
       "      <td>8153</td>\n",
       "      <td>0</td>\n",
       "      <td>0</td>\n",
       "      <td>0</td>\n",
       "      <td>0</td>\n",
       "      <td>...</td>\n",
       "      <td>255</td>\n",
       "      <td>1.00</td>\n",
       "      <td>0.00</td>\n",
       "      <td>0.03</td>\n",
       "      <td>0.04</td>\n",
       "      <td>0.03</td>\n",
       "      <td>0.01</td>\n",
       "      <td>0.00</td>\n",
       "      <td>0.01</td>\n",
       "      <td>normal</td>\n",
       "    </tr>\n",
       "    <tr>\n",
       "      <th>4</th>\n",
       "      <td>0</td>\n",
       "      <td>tcp</td>\n",
       "      <td>http</td>\n",
       "      <td>SF</td>\n",
       "      <td>199</td>\n",
       "      <td>420</td>\n",
       "      <td>0</td>\n",
       "      <td>0</td>\n",
       "      <td>0</td>\n",
       "      <td>0</td>\n",
       "      <td>...</td>\n",
       "      <td>255</td>\n",
       "      <td>1.00</td>\n",
       "      <td>0.00</td>\n",
       "      <td>0.00</td>\n",
       "      <td>0.00</td>\n",
       "      <td>0.00</td>\n",
       "      <td>0.00</td>\n",
       "      <td>0.00</td>\n",
       "      <td>0.00</td>\n",
       "      <td>normal</td>\n",
       "    </tr>\n",
       "  </tbody>\n",
       "</table>\n",
       "<p>5 rows × 42 columns</p>\n",
       "</div>"
      ],
      "text/plain": [
       "   duration protocol_type   service flag  src_bytes  dst_bytes  land  \\\n",
       "0         0           tcp  ftp_data   SF        491          0     0   \n",
       "1         0           udp     other   SF        146          0     0   \n",
       "2         0           tcp   private   S0          0          0     0   \n",
       "3         0           tcp      http   SF        232       8153     0   \n",
       "4         0           tcp      http   SF        199        420     0   \n",
       "\n",
       "   wrong_fragment  urgent  hot  ...  dst_host_srv_count  \\\n",
       "0               0       0    0  ...                  25   \n",
       "1               0       0    0  ...                   1   \n",
       "2               0       0    0  ...                  26   \n",
       "3               0       0    0  ...                 255   \n",
       "4               0       0    0  ...                 255   \n",
       "\n",
       "   dst_host_same_srv_rate  dst_host_diff_srv_rate  \\\n",
       "0                    0.17                    0.03   \n",
       "1                    0.00                    0.60   \n",
       "2                    0.10                    0.05   \n",
       "3                    1.00                    0.00   \n",
       "4                    1.00                    0.00   \n",
       "\n",
       "   dst_host_same_src_port_rate  dst_host_srv_diff_host_rate  \\\n",
       "0                         0.17                         0.00   \n",
       "1                         0.88                         0.00   \n",
       "2                         0.00                         0.00   \n",
       "3                         0.03                         0.04   \n",
       "4                         0.00                         0.00   \n",
       "\n",
       "   dst_host_serror_rate  dst_host_srv_serror_rate  dst_host_rerror_rate  \\\n",
       "0                  0.00                      0.00                  0.05   \n",
       "1                  0.00                      0.00                  0.00   \n",
       "2                  1.00                      1.00                  0.00   \n",
       "3                  0.03                      0.01                  0.00   \n",
       "4                  0.00                      0.00                  0.00   \n",
       "\n",
       "   dst_host_srv_rerror_rate    class  \n",
       "0                      0.00   normal  \n",
       "1                      0.00   normal  \n",
       "2                      0.00  anomaly  \n",
       "3                      0.01   normal  \n",
       "4                      0.00   normal  \n",
       "\n",
       "[5 rows x 42 columns]"
      ]
     },
     "execution_count": 5,
     "metadata": {},
     "output_type": "execute_result"
    }
   ],
   "source": [
    "train.head()"
   ]
  },
  {
   "cell_type": "code",
   "execution_count": 6,
   "id": "51706ce1",
   "metadata": {
    "execution": {
     "iopub.execute_input": "2023-06-01T20:25:48.659624Z",
     "iopub.status.busy": "2023-06-01T20:25:48.659212Z",
     "iopub.status.idle": "2023-06-01T20:25:48.808886Z",
     "shell.execute_reply": "2023-06-01T20:25:48.807700Z"
    },
    "papermill": {
     "duration": 0.173457,
     "end_time": "2023-06-01T20:25:48.811583",
     "exception": false,
     "start_time": "2023-06-01T20:25:48.638126",
     "status": "completed"
    },
    "tags": []
   },
   "outputs": [
    {
     "data": {
      "text/html": [
       "<div>\n",
       "<style scoped>\n",
       "    .dataframe tbody tr th:only-of-type {\n",
       "        vertical-align: middle;\n",
       "    }\n",
       "\n",
       "    .dataframe tbody tr th {\n",
       "        vertical-align: top;\n",
       "    }\n",
       "\n",
       "    .dataframe thead th {\n",
       "        text-align: right;\n",
       "    }\n",
       "</style>\n",
       "<table border=\"1\" class=\"dataframe\">\n",
       "  <thead>\n",
       "    <tr style=\"text-align: right;\">\n",
       "      <th></th>\n",
       "      <th>duration</th>\n",
       "      <th>src_bytes</th>\n",
       "      <th>dst_bytes</th>\n",
       "      <th>land</th>\n",
       "      <th>wrong_fragment</th>\n",
       "      <th>urgent</th>\n",
       "      <th>hot</th>\n",
       "      <th>num_failed_logins</th>\n",
       "      <th>logged_in</th>\n",
       "      <th>num_compromised</th>\n",
       "      <th>...</th>\n",
       "      <th>dst_host_count</th>\n",
       "      <th>dst_host_srv_count</th>\n",
       "      <th>dst_host_same_srv_rate</th>\n",
       "      <th>dst_host_diff_srv_rate</th>\n",
       "      <th>dst_host_same_src_port_rate</th>\n",
       "      <th>dst_host_srv_diff_host_rate</th>\n",
       "      <th>dst_host_serror_rate</th>\n",
       "      <th>dst_host_srv_serror_rate</th>\n",
       "      <th>dst_host_rerror_rate</th>\n",
       "      <th>dst_host_srv_rerror_rate</th>\n",
       "    </tr>\n",
       "  </thead>\n",
       "  <tbody>\n",
       "    <tr>\n",
       "      <th>count</th>\n",
       "      <td>25192.000000</td>\n",
       "      <td>2.519200e+04</td>\n",
       "      <td>2.519200e+04</td>\n",
       "      <td>25192.000000</td>\n",
       "      <td>25192.000000</td>\n",
       "      <td>25192.00000</td>\n",
       "      <td>25192.000000</td>\n",
       "      <td>25192.000000</td>\n",
       "      <td>25192.000000</td>\n",
       "      <td>25192.000000</td>\n",
       "      <td>...</td>\n",
       "      <td>25192.000000</td>\n",
       "      <td>25192.000000</td>\n",
       "      <td>25192.000000</td>\n",
       "      <td>25192.000000</td>\n",
       "      <td>25192.000000</td>\n",
       "      <td>25192.000000</td>\n",
       "      <td>25192.000000</td>\n",
       "      <td>25192.000000</td>\n",
       "      <td>25192.000000</td>\n",
       "      <td>25192.000000</td>\n",
       "    </tr>\n",
       "    <tr>\n",
       "      <th>mean</th>\n",
       "      <td>305.054104</td>\n",
       "      <td>2.433063e+04</td>\n",
       "      <td>3.491847e+03</td>\n",
       "      <td>0.000079</td>\n",
       "      <td>0.023738</td>\n",
       "      <td>0.00004</td>\n",
       "      <td>0.198039</td>\n",
       "      <td>0.001191</td>\n",
       "      <td>0.394768</td>\n",
       "      <td>0.227850</td>\n",
       "      <td>...</td>\n",
       "      <td>182.532074</td>\n",
       "      <td>115.063036</td>\n",
       "      <td>0.519791</td>\n",
       "      <td>0.082539</td>\n",
       "      <td>0.147453</td>\n",
       "      <td>0.031844</td>\n",
       "      <td>0.285800</td>\n",
       "      <td>0.279846</td>\n",
       "      <td>0.117800</td>\n",
       "      <td>0.118769</td>\n",
       "    </tr>\n",
       "    <tr>\n",
       "      <th>std</th>\n",
       "      <td>2686.555640</td>\n",
       "      <td>2.410805e+06</td>\n",
       "      <td>8.883072e+04</td>\n",
       "      <td>0.008910</td>\n",
       "      <td>0.260221</td>\n",
       "      <td>0.00630</td>\n",
       "      <td>2.154202</td>\n",
       "      <td>0.045418</td>\n",
       "      <td>0.488811</td>\n",
       "      <td>10.417352</td>\n",
       "      <td>...</td>\n",
       "      <td>98.993895</td>\n",
       "      <td>110.646850</td>\n",
       "      <td>0.448944</td>\n",
       "      <td>0.187191</td>\n",
       "      <td>0.308367</td>\n",
       "      <td>0.110575</td>\n",
       "      <td>0.445316</td>\n",
       "      <td>0.446075</td>\n",
       "      <td>0.305869</td>\n",
       "      <td>0.317333</td>\n",
       "    </tr>\n",
       "    <tr>\n",
       "      <th>min</th>\n",
       "      <td>0.000000</td>\n",
       "      <td>0.000000e+00</td>\n",
       "      <td>0.000000e+00</td>\n",
       "      <td>0.000000</td>\n",
       "      <td>0.000000</td>\n",
       "      <td>0.00000</td>\n",
       "      <td>0.000000</td>\n",
       "      <td>0.000000</td>\n",
       "      <td>0.000000</td>\n",
       "      <td>0.000000</td>\n",
       "      <td>...</td>\n",
       "      <td>0.000000</td>\n",
       "      <td>0.000000</td>\n",
       "      <td>0.000000</td>\n",
       "      <td>0.000000</td>\n",
       "      <td>0.000000</td>\n",
       "      <td>0.000000</td>\n",
       "      <td>0.000000</td>\n",
       "      <td>0.000000</td>\n",
       "      <td>0.000000</td>\n",
       "      <td>0.000000</td>\n",
       "    </tr>\n",
       "    <tr>\n",
       "      <th>25%</th>\n",
       "      <td>0.000000</td>\n",
       "      <td>0.000000e+00</td>\n",
       "      <td>0.000000e+00</td>\n",
       "      <td>0.000000</td>\n",
       "      <td>0.000000</td>\n",
       "      <td>0.00000</td>\n",
       "      <td>0.000000</td>\n",
       "      <td>0.000000</td>\n",
       "      <td>0.000000</td>\n",
       "      <td>0.000000</td>\n",
       "      <td>...</td>\n",
       "      <td>84.000000</td>\n",
       "      <td>10.000000</td>\n",
       "      <td>0.050000</td>\n",
       "      <td>0.000000</td>\n",
       "      <td>0.000000</td>\n",
       "      <td>0.000000</td>\n",
       "      <td>0.000000</td>\n",
       "      <td>0.000000</td>\n",
       "      <td>0.000000</td>\n",
       "      <td>0.000000</td>\n",
       "    </tr>\n",
       "    <tr>\n",
       "      <th>50%</th>\n",
       "      <td>0.000000</td>\n",
       "      <td>4.400000e+01</td>\n",
       "      <td>0.000000e+00</td>\n",
       "      <td>0.000000</td>\n",
       "      <td>0.000000</td>\n",
       "      <td>0.00000</td>\n",
       "      <td>0.000000</td>\n",
       "      <td>0.000000</td>\n",
       "      <td>0.000000</td>\n",
       "      <td>0.000000</td>\n",
       "      <td>...</td>\n",
       "      <td>255.000000</td>\n",
       "      <td>61.000000</td>\n",
       "      <td>0.510000</td>\n",
       "      <td>0.030000</td>\n",
       "      <td>0.000000</td>\n",
       "      <td>0.000000</td>\n",
       "      <td>0.000000</td>\n",
       "      <td>0.000000</td>\n",
       "      <td>0.000000</td>\n",
       "      <td>0.000000</td>\n",
       "    </tr>\n",
       "    <tr>\n",
       "      <th>75%</th>\n",
       "      <td>0.000000</td>\n",
       "      <td>2.790000e+02</td>\n",
       "      <td>5.302500e+02</td>\n",
       "      <td>0.000000</td>\n",
       "      <td>0.000000</td>\n",
       "      <td>0.00000</td>\n",
       "      <td>0.000000</td>\n",
       "      <td>0.000000</td>\n",
       "      <td>1.000000</td>\n",
       "      <td>0.000000</td>\n",
       "      <td>...</td>\n",
       "      <td>255.000000</td>\n",
       "      <td>255.000000</td>\n",
       "      <td>1.000000</td>\n",
       "      <td>0.070000</td>\n",
       "      <td>0.060000</td>\n",
       "      <td>0.020000</td>\n",
       "      <td>1.000000</td>\n",
       "      <td>1.000000</td>\n",
       "      <td>0.000000</td>\n",
       "      <td>0.000000</td>\n",
       "    </tr>\n",
       "    <tr>\n",
       "      <th>max</th>\n",
       "      <td>42862.000000</td>\n",
       "      <td>3.817091e+08</td>\n",
       "      <td>5.151385e+06</td>\n",
       "      <td>1.000000</td>\n",
       "      <td>3.000000</td>\n",
       "      <td>1.00000</td>\n",
       "      <td>77.000000</td>\n",
       "      <td>4.000000</td>\n",
       "      <td>1.000000</td>\n",
       "      <td>884.000000</td>\n",
       "      <td>...</td>\n",
       "      <td>255.000000</td>\n",
       "      <td>255.000000</td>\n",
       "      <td>1.000000</td>\n",
       "      <td>1.000000</td>\n",
       "      <td>1.000000</td>\n",
       "      <td>1.000000</td>\n",
       "      <td>1.000000</td>\n",
       "      <td>1.000000</td>\n",
       "      <td>1.000000</td>\n",
       "      <td>1.000000</td>\n",
       "    </tr>\n",
       "  </tbody>\n",
       "</table>\n",
       "<p>8 rows × 38 columns</p>\n",
       "</div>"
      ],
      "text/plain": [
       "           duration     src_bytes     dst_bytes          land  wrong_fragment  \\\n",
       "count  25192.000000  2.519200e+04  2.519200e+04  25192.000000    25192.000000   \n",
       "mean     305.054104  2.433063e+04  3.491847e+03      0.000079        0.023738   \n",
       "std     2686.555640  2.410805e+06  8.883072e+04      0.008910        0.260221   \n",
       "min        0.000000  0.000000e+00  0.000000e+00      0.000000        0.000000   \n",
       "25%        0.000000  0.000000e+00  0.000000e+00      0.000000        0.000000   \n",
       "50%        0.000000  4.400000e+01  0.000000e+00      0.000000        0.000000   \n",
       "75%        0.000000  2.790000e+02  5.302500e+02      0.000000        0.000000   \n",
       "max    42862.000000  3.817091e+08  5.151385e+06      1.000000        3.000000   \n",
       "\n",
       "            urgent           hot  num_failed_logins     logged_in  \\\n",
       "count  25192.00000  25192.000000       25192.000000  25192.000000   \n",
       "mean       0.00004      0.198039           0.001191      0.394768   \n",
       "std        0.00630      2.154202           0.045418      0.488811   \n",
       "min        0.00000      0.000000           0.000000      0.000000   \n",
       "25%        0.00000      0.000000           0.000000      0.000000   \n",
       "50%        0.00000      0.000000           0.000000      0.000000   \n",
       "75%        0.00000      0.000000           0.000000      1.000000   \n",
       "max        1.00000     77.000000           4.000000      1.000000   \n",
       "\n",
       "       num_compromised  ...  dst_host_count  dst_host_srv_count  \\\n",
       "count     25192.000000  ...    25192.000000        25192.000000   \n",
       "mean          0.227850  ...      182.532074          115.063036   \n",
       "std          10.417352  ...       98.993895          110.646850   \n",
       "min           0.000000  ...        0.000000            0.000000   \n",
       "25%           0.000000  ...       84.000000           10.000000   \n",
       "50%           0.000000  ...      255.000000           61.000000   \n",
       "75%           0.000000  ...      255.000000          255.000000   \n",
       "max         884.000000  ...      255.000000          255.000000   \n",
       "\n",
       "       dst_host_same_srv_rate  dst_host_diff_srv_rate  \\\n",
       "count            25192.000000            25192.000000   \n",
       "mean                 0.519791                0.082539   \n",
       "std                  0.448944                0.187191   \n",
       "min                  0.000000                0.000000   \n",
       "25%                  0.050000                0.000000   \n",
       "50%                  0.510000                0.030000   \n",
       "75%                  1.000000                0.070000   \n",
       "max                  1.000000                1.000000   \n",
       "\n",
       "       dst_host_same_src_port_rate  dst_host_srv_diff_host_rate  \\\n",
       "count                 25192.000000                 25192.000000   \n",
       "mean                      0.147453                     0.031844   \n",
       "std                       0.308367                     0.110575   \n",
       "min                       0.000000                     0.000000   \n",
       "25%                       0.000000                     0.000000   \n",
       "50%                       0.000000                     0.000000   \n",
       "75%                       0.060000                     0.020000   \n",
       "max                       1.000000                     1.000000   \n",
       "\n",
       "       dst_host_serror_rate  dst_host_srv_serror_rate  dst_host_rerror_rate  \\\n",
       "count          25192.000000              25192.000000          25192.000000   \n",
       "mean               0.285800                  0.279846              0.117800   \n",
       "std                0.445316                  0.446075              0.305869   \n",
       "min                0.000000                  0.000000              0.000000   \n",
       "25%                0.000000                  0.000000              0.000000   \n",
       "50%                0.000000                  0.000000              0.000000   \n",
       "75%                1.000000                  1.000000              0.000000   \n",
       "max                1.000000                  1.000000              1.000000   \n",
       "\n",
       "       dst_host_srv_rerror_rate  \n",
       "count              25192.000000  \n",
       "mean                   0.118769  \n",
       "std                    0.317333  \n",
       "min                    0.000000  \n",
       "25%                    0.000000  \n",
       "50%                    0.000000  \n",
       "75%                    0.000000  \n",
       "max                    1.000000  \n",
       "\n",
       "[8 rows x 38 columns]"
      ]
     },
     "execution_count": 6,
     "metadata": {},
     "output_type": "execute_result"
    }
   ],
   "source": [
    "train.describe()"
   ]
  },
  {
   "cell_type": "code",
   "execution_count": 7,
   "id": "1265a6a1",
   "metadata": {
    "execution": {
     "iopub.execute_input": "2023-06-01T20:25:48.853991Z",
     "iopub.status.busy": "2023-06-01T20:25:48.852885Z",
     "iopub.status.idle": "2023-06-01T20:25:48.860066Z",
     "shell.execute_reply": "2023-06-01T20:25:48.859132Z"
    },
    "papermill": {
     "duration": 0.031189,
     "end_time": "2023-06-01T20:25:48.862436",
     "exception": false,
     "start_time": "2023-06-01T20:25:48.831247",
     "status": "completed"
    },
    "tags": []
   },
   "outputs": [
    {
     "data": {
      "text/plain": [
       "(25192, 42)"
      ]
     },
     "execution_count": 7,
     "metadata": {},
     "output_type": "execute_result"
    }
   ],
   "source": [
    "train.shape"
   ]
  },
  {
   "cell_type": "code",
   "execution_count": 8,
   "id": "ecdca889",
   "metadata": {
    "execution": {
     "iopub.execute_input": "2023-06-01T20:25:48.904950Z",
     "iopub.status.busy": "2023-06-01T20:25:48.903700Z",
     "iopub.status.idle": "2023-06-01T20:25:48.946142Z",
     "shell.execute_reply": "2023-06-01T20:25:48.944941Z"
    },
    "papermill": {
     "duration": 0.065731,
     "end_time": "2023-06-01T20:25:48.948584",
     "exception": false,
     "start_time": "2023-06-01T20:25:48.882853",
     "status": "completed"
    },
    "tags": []
   },
   "outputs": [
    {
     "data": {
      "text/plain": [
       "duration                       0\n",
       "protocol_type                  0\n",
       "service                        0\n",
       "flag                           0\n",
       "src_bytes                      0\n",
       "dst_bytes                      0\n",
       "land                           0\n",
       "wrong_fragment                 0\n",
       "urgent                         0\n",
       "hot                            0\n",
       "num_failed_logins              0\n",
       "logged_in                      0\n",
       "num_compromised                0\n",
       "root_shell                     0\n",
       "su_attempted                   0\n",
       "num_root                       0\n",
       "num_file_creations             0\n",
       "num_shells                     0\n",
       "num_access_files               0\n",
       "num_outbound_cmds              0\n",
       "is_host_login                  0\n",
       "is_guest_login                 0\n",
       "count                          0\n",
       "srv_count                      0\n",
       "serror_rate                    0\n",
       "srv_serror_rate                0\n",
       "rerror_rate                    0\n",
       "srv_rerror_rate                0\n",
       "same_srv_rate                  0\n",
       "diff_srv_rate                  0\n",
       "srv_diff_host_rate             0\n",
       "dst_host_count                 0\n",
       "dst_host_srv_count             0\n",
       "dst_host_same_srv_rate         0\n",
       "dst_host_diff_srv_rate         0\n",
       "dst_host_same_src_port_rate    0\n",
       "dst_host_srv_diff_host_rate    0\n",
       "dst_host_serror_rate           0\n",
       "dst_host_srv_serror_rate       0\n",
       "dst_host_rerror_rate           0\n",
       "dst_host_srv_rerror_rate       0\n",
       "class                          0\n",
       "dtype: int64"
      ]
     },
     "execution_count": 8,
     "metadata": {},
     "output_type": "execute_result"
    }
   ],
   "source": [
    "train.isnull().sum()"
   ]
  },
  {
   "cell_type": "code",
   "execution_count": 9,
   "id": "1d3d2f72",
   "metadata": {
    "execution": {
     "iopub.execute_input": "2023-06-01T20:25:48.991024Z",
     "iopub.status.busy": "2023-06-01T20:25:48.990026Z",
     "iopub.status.idle": "2023-06-01T20:25:49.239624Z",
     "shell.execute_reply": "2023-06-01T20:25:49.238653Z"
    },
    "papermill": {
     "duration": 0.27381,
     "end_time": "2023-06-01T20:25:49.242151",
     "exception": false,
     "start_time": "2023-06-01T20:25:48.968341",
     "status": "completed"
    },
    "tags": []
   },
   "outputs": [
    {
     "data": {
      "text/plain": [
       "<Axes: xlabel='class', ylabel='count'>"
      ]
     },
     "execution_count": 9,
     "metadata": {},
     "output_type": "execute_result"
    },
    {
     "data": {
      "image/png": "[encoded data removed]",
      "text/plain": [
       "<Figure size 640x480 with 1 Axes>"
      ]
     },
     "metadata": {},
     "output_type": "display_data"
    }
   ],
   "source": [
    "sns.countplot(x=train['class'])"
   ]
  },
  {
   "cell_type": "code",
   "execution_count": 10,
   "id": "d71caf70",
   "metadata": {
    "execution": {
     "iopub.execute_input": "2023-06-01T20:25:49.285755Z",
     "iopub.status.busy": "2023-06-01T20:25:49.284974Z",
     "iopub.status.idle": "2023-06-01T20:25:49.301295Z",
     "shell.execute_reply": "2023-06-01T20:25:49.300113Z"
    },
    "papermill": {
     "duration": 0.041618,
     "end_time": "2023-06-01T20:25:49.303861",
     "exception": false,
     "start_time": "2023-06-01T20:25:49.262243",
     "status": "completed"
    },
    "tags": []
   },
   "outputs": [
    {
     "data": {
      "text/plain": [
       "class\n",
       "normal     13449\n",
       "anomaly    11743\n",
       "Name: count, dtype: int64"
      ]
     },
     "execution_count": 10,
     "metadata": {},
     "output_type": "execute_result"
    }
   ],
   "source": [
    "train['class'].value_counts()"
   ]
  },
  {
   "cell_type": "code",
   "execution_count": 11,
   "id": "1f607bbe",
   "metadata": {
    "execution": {
     "iopub.execute_input": "2023-06-01T20:25:49.346779Z",
     "iopub.status.busy": "2023-06-01T20:25:49.345970Z",
     "iopub.status.idle": "2023-06-01T20:25:49.418493Z",
     "shell.execute_reply": "2023-06-01T20:25:49.417339Z"
    },
    "papermill": {
     "duration": 0.097719,
     "end_time": "2023-06-01T20:25:49.421801",
     "exception": false,
     "start_time": "2023-06-01T20:25:49.324082",
     "status": "completed"
    },
    "tags": []
   },
   "outputs": [],
   "source": [
    "def le(df):\n",
    "    for col in df.columns:\n",
    "        if df[col].dtype == 'object':\n",
    "                label_encoder = LabelEncoder()\n",
    "                df[col] = label_encoder.fit_transform(df[col])\n",
    "\n",
    "le(train)\n",
    "le(test)"
   ]
  },
  {
   "cell_type": "code",
   "execution_count": 12,
   "id": "5d9a335b",
   "metadata": {
    "execution": {
     "iopub.execute_input": "2023-06-01T20:25:49.464338Z",
     "iopub.status.busy": "2023-06-01T20:25:49.463657Z",
     "iopub.status.idle": "2023-06-01T20:25:49.476051Z",
     "shell.execute_reply": "2023-06-01T20:25:49.474848Z"
    },
    "papermill": {
     "duration": 0.036491,
     "end_time": "2023-06-01T20:25:49.478589",
     "exception": false,
     "start_time": "2023-06-01T20:25:49.442098",
     "status": "completed"
    },
    "tags": []
   },
   "outputs": [],
   "source": [
    "train.drop(['num_outbound_cmds'], axis=1, inplace=True)\n",
    "test.drop(['num_outbound_cmds'], axis=1, inplace=True)"
   ]
  },
  {
   "cell_type": "code",
   "execution_count": 13,
   "id": "77aaf0db",
   "metadata": {
    "execution": {
     "iopub.execute_input": "2023-06-01T20:25:49.521114Z",
     "iopub.status.busy": "2023-06-01T20:25:49.520505Z",
     "iopub.status.idle": "2023-06-01T20:25:49.547913Z",
     "shell.execute_reply": "2023-06-01T20:25:49.546773Z"
    },
    "papermill": {
     "duration": 0.051381,
     "end_time": "2023-06-01T20:25:49.550341",
     "exception": false,
     "start_time": "2023-06-01T20:25:49.498960",
     "status": "completed"
    },
    "tags": []
   },
   "outputs": [
    {
     "data": {
      "text/html": [
       "<div>\n",
       "<style scoped>\n",
       "    .dataframe tbody tr th:only-of-type {\n",
       "        vertical-align: middle;\n",
       "    }\n",
       "\n",
       "    .dataframe tbody tr th {\n",
       "        vertical-align: top;\n",
       "    }\n",
       "\n",
       "    .dataframe thead th {\n",
       "        text-align: right;\n",
       "    }\n",
       "</style>\n",
       "<table border=\"1\" class=\"dataframe\">\n",
       "  <thead>\n",
       "    <tr style=\"text-align: right;\">\n",
       "      <th></th>\n",
       "      <th>duration</th>\n",
       "      <th>protocol_type</th>\n",
       "      <th>service</th>\n",
       "      <th>flag</th>\n",
       "      <th>src_bytes</th>\n",
       "      <th>dst_bytes</th>\n",
       "      <th>land</th>\n",
       "      <th>wrong_fragment</th>\n",
       "      <th>urgent</th>\n",
       "      <th>hot</th>\n",
       "      <th>...</th>\n",
       "      <th>dst_host_srv_count</th>\n",
       "      <th>dst_host_same_srv_rate</th>\n",
       "      <th>dst_host_diff_srv_rate</th>\n",
       "      <th>dst_host_same_src_port_rate</th>\n",
       "      <th>dst_host_srv_diff_host_rate</th>\n",
       "      <th>dst_host_serror_rate</th>\n",
       "      <th>dst_host_srv_serror_rate</th>\n",
       "      <th>dst_host_rerror_rate</th>\n",
       "      <th>dst_host_srv_rerror_rate</th>\n",
       "      <th>class</th>\n",
       "    </tr>\n",
       "  </thead>\n",
       "  <tbody>\n",
       "    <tr>\n",
       "      <th>0</th>\n",
       "      <td>0</td>\n",
       "      <td>1</td>\n",
       "      <td>19</td>\n",
       "      <td>9</td>\n",
       "      <td>491</td>\n",
       "      <td>0</td>\n",
       "      <td>0</td>\n",
       "      <td>0</td>\n",
       "      <td>0</td>\n",
       "      <td>0</td>\n",
       "      <td>...</td>\n",
       "      <td>25</td>\n",
       "      <td>0.17</td>\n",
       "      <td>0.03</td>\n",
       "      <td>0.17</td>\n",
       "      <td>0.00</td>\n",
       "      <td>0.00</td>\n",
       "      <td>0.00</td>\n",
       "      <td>0.05</td>\n",
       "      <td>0.00</td>\n",
       "      <td>1</td>\n",
       "    </tr>\n",
       "    <tr>\n",
       "      <th>1</th>\n",
       "      <td>0</td>\n",
       "      <td>2</td>\n",
       "      <td>41</td>\n",
       "      <td>9</td>\n",
       "      <td>146</td>\n",
       "      <td>0</td>\n",
       "      <td>0</td>\n",
       "      <td>0</td>\n",
       "      <td>0</td>\n",
       "      <td>0</td>\n",
       "      <td>...</td>\n",
       "      <td>1</td>\n",
       "      <td>0.00</td>\n",
       "      <td>0.60</td>\n",
       "      <td>0.88</td>\n",
       "      <td>0.00</td>\n",
       "      <td>0.00</td>\n",
       "      <td>0.00</td>\n",
       "      <td>0.00</td>\n",
       "      <td>0.00</td>\n",
       "      <td>1</td>\n",
       "    </tr>\n",
       "    <tr>\n",
       "      <th>2</th>\n",
       "      <td>0</td>\n",
       "      <td>1</td>\n",
       "      <td>46</td>\n",
       "      <td>5</td>\n",
       "      <td>0</td>\n",
       "      <td>0</td>\n",
       "      <td>0</td>\n",
       "      <td>0</td>\n",
       "      <td>0</td>\n",
       "      <td>0</td>\n",
       "      <td>...</td>\n",
       "      <td>26</td>\n",
       "      <td>0.10</td>\n",
       "      <td>0.05</td>\n",
       "      <td>0.00</td>\n",
       "      <td>0.00</td>\n",
       "      <td>1.00</td>\n",
       "      <td>1.00</td>\n",
       "      <td>0.00</td>\n",
       "      <td>0.00</td>\n",
       "      <td>0</td>\n",
       "    </tr>\n",
       "    <tr>\n",
       "      <th>3</th>\n",
       "      <td>0</td>\n",
       "      <td>1</td>\n",
       "      <td>22</td>\n",
       "      <td>9</td>\n",
       "      <td>232</td>\n",
       "      <td>8153</td>\n",
       "      <td>0</td>\n",
       "      <td>0</td>\n",
       "      <td>0</td>\n",
       "      <td>0</td>\n",
       "      <td>...</td>\n",
       "      <td>255</td>\n",
       "      <td>1.00</td>\n",
       "      <td>0.00</td>\n",
       "      <td>0.03</td>\n",
       "      <td>0.04</td>\n",
       "      <td>0.03</td>\n",
       "      <td>0.01</td>\n",
       "      <td>0.00</td>\n",
       "      <td>0.01</td>\n",
       "      <td>1</td>\n",
       "    </tr>\n",
       "    <tr>\n",
       "      <th>4</th>\n",
       "      <td>0</td>\n",
       "      <td>1</td>\n",
       "      <td>22</td>\n",
       "      <td>9</td>\n",
       "      <td>199</td>\n",
       "      <td>420</td>\n",
       "      <td>0</td>\n",
       "      <td>0</td>\n",
       "      <td>0</td>\n",
       "      <td>0</td>\n",
       "      <td>...</td>\n",
       "      <td>255</td>\n",
       "      <td>1.00</td>\n",
       "      <td>0.00</td>\n",
       "      <td>0.00</td>\n",
       "      <td>0.00</td>\n",
       "      <td>0.00</td>\n",
       "      <td>0.00</td>\n",
       "      <td>0.00</td>\n",
       "      <td>0.00</td>\n",
       "      <td>1</td>\n",
       "    </tr>\n",
       "  </tbody>\n",
       "</table>\n",
       "<p>5 rows × 41 columns</p>\n",
       "</div>"
      ],
      "text/plain": [
       "   duration  protocol_type  service  flag  src_bytes  dst_bytes  land  \\\n",
       "0         0              1       19     9        491          0     0   \n",
       "1         0              2       41     9        146          0     0   \n",
       "2         0              1       46     5          0          0     0   \n",
       "3         0              1       22     9        232       8153     0   \n",
       "4         0              1       22     9        199        420     0   \n",
       "\n",
       "   wrong_fragment  urgent  hot  ...  dst_host_srv_count  \\\n",
       "0               0       0    0  ...                  25   \n",
       "1               0       0    0  ...                   1   \n",
       "2               0       0    0  ...                  26   \n",
       "3               0       0    0  ...                 255   \n",
       "4               0       0    0  ...                 255   \n",
       "\n",
       "   dst_host_same_srv_rate  dst_host_diff_srv_rate  \\\n",
       "0                    0.17                    0.03   \n",
       "1                    0.00                    0.60   \n",
       "2                    0.10                    0.05   \n",
       "3                    1.00                    0.00   \n",
       "4                    1.00                    0.00   \n",
       "\n",
       "   dst_host_same_src_port_rate  dst_host_srv_diff_host_rate  \\\n",
       "0                         0.17                         0.00   \n",
       "1                         0.88                         0.00   \n",
       "2                         0.00                         0.00   \n",
       "3                         0.03                         0.04   \n",
       "4                         0.00                         0.00   \n",
       "\n",
       "   dst_host_serror_rate  dst_host_srv_serror_rate  dst_host_rerror_rate  \\\n",
       "0                  0.00                      0.00                  0.05   \n",
       "1                  0.00                      0.00                  0.00   \n",
       "2                  1.00                      1.00                  0.00   \n",
       "3                  0.03                      0.01                  0.00   \n",
       "4                  0.00                      0.00                  0.00   \n",
       "\n",
       "   dst_host_srv_rerror_rate  class  \n",
       "0                      0.00      1  \n",
       "1                      0.00      1  \n",
       "2                      0.00      0  \n",
       "3                      0.01      1  \n",
       "4                      0.00      1  \n",
       "\n",
       "[5 rows x 41 columns]"
      ]
     },
     "execution_count": 13,
     "metadata": {},
     "output_type": "execute_result"
    }
   ],
   "source": [
    "train.head()"
   ]
  },
  {
   "cell_type": "code",
   "execution_count": 14,
   "id": "ec86c132",
   "metadata": {
    "execution": {
     "iopub.execute_input": "2023-06-01T20:25:49.593787Z",
     "iopub.status.busy": "2023-06-01T20:25:49.593152Z",
     "iopub.status.idle": "2023-06-01T20:25:49.601368Z",
     "shell.execute_reply": "2023-06-01T20:25:49.600492Z"
    },
    "papermill": {
     "duration": 0.033023,
     "end_time": "2023-06-01T20:25:49.603962",
     "exception": false,
     "start_time": "2023-06-01T20:25:49.570939",
     "status": "completed"
    },
    "tags": []
   },
   "outputs": [],
   "source": [
    "X_train = train.drop(['class'], axis=1)\n",
    "Y_train = train['class']"
   ]
  },
  {
   "cell_type": "code",
   "execution_count": 15,
   "id": "0dd51964",
   "metadata": {
    "execution": {
     "iopub.execute_input": "2023-06-01T20:25:49.647061Z",
     "iopub.status.busy": "2023-06-01T20:25:49.646648Z",
     "iopub.status.idle": "2023-06-01T20:26:57.742104Z",
     "shell.execute_reply": "2023-06-01T20:26:57.740776Z"
    },
    "papermill": {
     "duration": 68.140379,
     "end_time": "2023-06-01T20:26:57.764855",
     "exception": false,
     "start_time": "2023-06-01T20:25:49.624476",
     "status": "completed"
    },
    "tags": []
   },
   "outputs": [
    {
     "data": {
      "text/plain": [
       "['protocol_type',\n",
       " 'flag',\n",
       " 'src_bytes',\n",
       " 'dst_bytes',\n",
       " 'count',\n",
       " 'same_srv_rate',\n",
       " 'diff_srv_rate',\n",
       " 'dst_host_srv_count',\n",
       " 'dst_host_same_srv_rate',\n",
       " 'dst_host_same_src_port_rate']"
      ]
     },
     "execution_count": 15,
     "metadata": {},
     "output_type": "execute_result"
    }
   ],
   "source": [
    "rfc = RandomForestClassifier()\n",
    "rfe = RFE(rfc, n_features_to_select=10)\n",
    "rfe = rfe.fit(X_train, Y_train)\n",
    "feature_map = [(i, v) for i, v in itertools.zip_longest(rfe.get_support(), X_train.columns)]\n",
    "selected_features = [v for i, v in feature_map if i==True]\n",
    "selected_features"
   ]
  },
  {
   "cell_type": "code",
   "execution_count": 16,
   "id": "701cf1c5",
   "metadata": {
    "execution": {
     "iopub.execute_input": "2023-06-01T20:26:57.807967Z",
     "iopub.status.busy": "2023-06-01T20:26:57.807526Z",
     "iopub.status.idle": "2023-06-01T20:26:57.814103Z",
     "shell.execute_reply": "2023-06-01T20:26:57.813290Z"
    },
    "papermill": {
     "duration": 0.031001,
     "end_time": "2023-06-01T20:26:57.816247",
     "exception": false,
     "start_time": "2023-06-01T20:26:57.785246",
     "status": "completed"
    },
    "tags": []
   },
   "outputs": [],
   "source": [
    "X_train = X_train[selected_features]"
   ]
  },
  {
   "cell_type": "code",
   "execution_count": 17,
   "id": "a63f70c8",
   "metadata": {
    "execution": {
     "iopub.execute_input": "2023-06-01T20:26:57.859771Z",
     "iopub.status.busy": "2023-06-01T20:26:57.859154Z",
     "iopub.status.idle": "2023-06-01T20:26:57.896509Z",
     "shell.execute_reply": "2023-06-01T20:26:57.895319Z"
    },
    "papermill": {
     "duration": 0.062358,
     "end_time": "2023-06-01T20:26:57.899272",
     "exception": false,
     "start_time": "2023-06-01T20:26:57.836914",
     "status": "completed"
    },
    "tags": []
   },
   "outputs": [],
   "source": [
    "scale = StandardScaler()\n",
    "X_train = scale.fit_transform(X_train)\n",
    "test = scale.fit_transform(test)"
   ]
  },
  {
   "cell_type": "code",
   "execution_count": 18,
   "id": "1bd0f0bf",
   "metadata": {
    "execution": {
     "iopub.execute_input": "2023-06-01T20:26:57.943374Z",
     "iopub.status.busy": "2023-06-01T20:26:57.942952Z",
     "iopub.status.idle": "2023-06-01T20:26:57.953135Z",
     "shell.execute_reply": "2023-06-01T20:26:57.951966Z"
    },
    "papermill": {
     "duration": 0.035476,
     "end_time": "2023-06-01T20:26:57.955576",
     "exception": false,
     "start_time": "2023-06-01T20:26:57.920100",
     "status": "completed"
    },
    "tags": []
   },
   "outputs": [],
   "source": [
    "x_train, x_test, y_train, y_test = train_test_split(X_train, Y_train, train_size=0.70, random_state=2)"
   ]
  },
  {
   "cell_type": "code",
   "execution_count": 19,
   "id": "969b95e6",
   "metadata": {
    "execution": {
     "iopub.execute_input": "2023-06-01T20:26:58.001258Z",
     "iopub.status.busy": "2023-06-01T20:26:58.000475Z",
     "iopub.status.idle": "2023-06-01T20:26:58.007780Z",
     "shell.execute_reply": "2023-06-01T20:26:58.006526Z"
    },
    "papermill": {
     "duration": 0.032859,
     "end_time": "2023-06-01T20:26:58.010278",
     "exception": false,
     "start_time": "2023-06-01T20:26:57.977419",
     "status": "completed"
    },
    "tags": []
   },
   "outputs": [
    {
     "data": {
      "text/plain": [
       "(17634, 10)"
      ]
     },
     "execution_count": 19,
     "metadata": {},
     "output_type": "execute_result"
    }
   ],
   "source": [
    "x_train.shape"
   ]
  },
  {
   "cell_type": "code",
   "execution_count": 20,
   "id": "e09efca5",
   "metadata": {
    "execution": {
     "iopub.execute_input": "2023-06-01T20:26:58.053930Z",
     "iopub.status.busy": "2023-06-01T20:26:58.053507Z",
     "iopub.status.idle": "2023-06-01T20:26:58.060170Z",
     "shell.execute_reply": "2023-06-01T20:26:58.059345Z"
    },
    "papermill": {
     "duration": 0.030981,
     "end_time": "2023-06-01T20:26:58.062266",
     "exception": false,
     "start_time": "2023-06-01T20:26:58.031285",
     "status": "completed"
    },
    "tags": []
   },
   "outputs": [
    {
     "data": {
      "text/plain": [
       "(7558, 10)"
      ]
     },
     "execution_count": 20,
     "metadata": {},
     "output_type": "execute_result"
    }
   ],
   "source": [
    "x_test.shape"
   ]
  },
  {
   "cell_type": "markdown",
   "id": "bf235402",
   "metadata": {
    "papermill": {
     "duration": 0.020806,
     "end_time": "2023-06-01T20:26:58.103978",
     "exception": false,
     "start_time": "2023-06-01T20:26:58.083172",
     "status": "completed"
    },
    "tags": []
   },
   "source": [
    "# K-Nearest Neighbor "
   ]
  },
  {
   "cell_type": "code",
   "execution_count": 21,
   "id": "13f28131",
   "metadata": {
    "execution": {
     "iopub.execute_input": "2023-06-01T20:26:58.148240Z",
     "iopub.status.busy": "2023-06-01T20:26:58.147477Z",
     "iopub.status.idle": "2023-06-01T20:26:58.187455Z",
     "shell.execute_reply": "2023-06-01T20:26:58.186588Z"
    },
    "papermill": {
     "duration": 0.064753,
     "end_time": "2023-06-01T20:26:58.189613",
     "exception": false,
     "start_time": "2023-06-01T20:26:58.124860",
     "status": "completed"
    },
    "tags": []
   },
   "outputs": [
    {
     "data": {
      "text/html": [
       "<style>#sk-container-id-1 {color: black;background-color: white;}#sk-container-id-1 pre{padding: 0;}#sk-container-id-1 div.sk-toggleable {background-color: white;}#sk-container-id-1 label.sk-toggleable__label {cursor: pointer;display: block;width: 100%;margin-bottom: 0;padding: 0.3em;box-sizing: border-box;text-align: center;}#sk-container-id-1 label.sk-toggleable__label-arrow:before {content: \"▸\";float: left;margin-right: 0.25em;color: #696969;}#sk-container-id-1 label.sk-toggleable__label-arrow:hover:before {color: black;}#sk-container-id-1 div.sk-estimator:hover label.sk-toggleable__label-arrow:before {color: black;}#sk-container-id-1 div.sk-toggleable__content {max-height: 0;max-width: 0;overflow: hidden;text-align: left;background-color: #f0f8ff;}#sk-container-id-1 div.sk-toggleable__content pre {margin: 0.2em;color: black;border-radius: 0.25em;background-color: #f0f8ff;}#sk-container-id-1 input.sk-toggleable__control:checked~div.sk-toggleable__content {max-height: 200px;max-width: 100%;overflow: auto;}#sk-container-id-1 input.sk-toggleable__control:checked~label.sk-toggleable__label-arrow:before {content: \"▾\";}#sk-container-id-1 div.sk-estimator input.sk-toggleable__control:checked~label.sk-toggleable__label {background-color: #d4ebff;}#sk-container-id-1 div.sk-label input.sk-toggleable__control:checked~label.sk-toggleable__label {background-color: #d4ebff;}#sk-container-id-1 input.sk-hidden--visually {border: 0;clip: rect(1px 1px 1px 1px);clip: rect(1px, 1px, 1px, 1px);height: 1px;margin: -1px;overflow: hidden;padding: 0;position: absolute;width: 1px;}#sk-container-id-1 div.sk-estimator {font-family: monospace;background-color: #f0f8ff;border: 1px dotted black;border-radius: 0.25em;box-sizing: border-box;margin-bottom: 0.5em;}#sk-container-id-1 div.sk-estimator:hover {background-color: #d4ebff;}#sk-container-id-1 div.sk-parallel-item::after {content: \"\";width: 100%;border-bottom: 1px solid gray;flex-grow: 1;}#sk-container-id-1 div.sk-label:hover label.sk-toggleable__label {background-color: #d4ebff;}#sk-container-id-1 div.sk-serial::before {content: \"\";position: absolute;border-left: 1px solid gray;box-sizing: border-box;top: 0;bottom: 0;left: 50%;z-index: 0;}#sk-container-id-1 div.sk-serial {display: flex;flex-direction: column;align-items: center;background-color: white;padding-right: 0.2em;padding-left: 0.2em;position: relative;}#sk-container-id-1 div.sk-item {position: relative;z-index: 1;}#sk-container-id-1 div.sk-parallel {display: flex;align-items: stretch;justify-content: center;background-color: white;position: relative;}#sk-container-id-1 div.sk-item::before, #sk-container-id-1 div.sk-parallel-item::before {content: \"\";position: absolute;border-left: 1px solid gray;box-sizing: border-box;top: 0;bottom: 0;left: 50%;z-index: -1;}#sk-container-id-1 div.sk-parallel-item {display: flex;flex-direction: column;z-index: 1;position: relative;background-color: white;}#sk-container-id-1 div.sk-parallel-item:first-child::after {align-self: flex-end;width: 50%;}#sk-container-id-1 div.sk-parallel-item:last-child::after {align-self: flex-start;width: 50%;}#sk-container-id-1 div.sk-parallel-item:only-child::after {width: 0;}#sk-container-id-1 div.sk-dashed-wrapped {border: 1px dashed gray;margin: 0 0.4em 0.5em 0.4em;box-sizing: border-box;padding-bottom: 0.4em;background-color: white;}#sk-container-id-1 div.sk-label label {font-family: monospace;font-weight: bold;display: inline-block;line-height: 1.2em;}#sk-container-id-1 div.sk-label-container {text-align: center;}#sk-container-id-1 div.sk-container {/* jupyter's `normalize.less` sets `[hidden] { display: none; }` but bootstrap.min.css set `[hidden] { display: none !important; }` so we also need the `!important` here to be able to override the default hidden behavior on the sphinx rendered scikit-learn.org. See: https://github.com/scikit-learn/scikit-learn/issues/21755 */display: inline-block !important;position: relative;}#sk-container-id-1 div.sk-text-repr-fallback {display: none;}</style><div id=\"sk-container-id-1\" class=\"sk-top-container\"><div class=\"sk-text-repr-fallback\"><pre>KNeighborsClassifier(n_neighbors=25)</pre><b>In a Jupyter environment, please rerun this cell to show the HTML representation or trust the notebook. <br />On GitHub, the HTML representation is unable to render, please try loading this page with nbviewer.org.</b></div><div class=\"sk-container\" hidden><div class=\"sk-item\"><div class=\"sk-estimator sk-toggleable\"><input class=\"sk-toggleable__control sk-hidden--visually\" id=\"sk-estimator-id-1\" type=\"checkbox\" checked><label for=\"sk-estimator-id-1\" class=\"sk-toggleable__label sk-toggleable__label-arrow\">KNeighborsClassifier</label><div class=\"sk-toggleable__content\"><pre>KNeighborsClassifier(n_neighbors=25)</pre></div></div></div></div></div>"
      ],
      "text/plain": [
       "KNeighborsClassifier(n_neighbors=25)"
      ]
     },
     "execution_count": 21,
     "metadata": {},
     "output_type": "execute_result"
    }
   ],
   "source": [
    "from sklearn import metrics\n",
    "from sklearn.neighbors import KNeighborsClassifier\n",
    "knn = KNeighborsClassifier(n_neighbors = 25, metric = 'minkowski')\n",
    "knn.fit(x_train,y_train)"
   ]
  },
  {
   "cell_type": "code",
   "execution_count": 22,
   "id": "9ea0a7c8",
   "metadata": {
    "execution": {
     "iopub.execute_input": "2023-06-01T20:26:58.235203Z",
     "iopub.status.busy": "2023-06-01T20:26:58.234119Z",
     "iopub.status.idle": "2023-06-01T20:26:59.209710Z",
     "shell.execute_reply": "2023-06-01T20:26:59.208366Z"
    },
    "papermill": {
     "duration": 1.000998,
     "end_time": "2023-06-01T20:26:59.212406",
     "exception": false,
     "start_time": "2023-06-01T20:26:58.211408",
     "status": "completed"
    },
    "tags": []
   },
   "outputs": [],
   "source": [
    "knn_y_pred = knn.predict(x_test)"
   ]
  },
  {
   "cell_type": "code",
   "execution_count": 23,
   "id": "a796a69e",
   "metadata": {},
   "outputs": [],
   "source": [
    "knn_y_pred_prob=knn.predict_proba(x_test)"
   ]
  },
  {
   "cell_type": "code",
   "execution_count": 24,
   "id": "78dfc661",
   "metadata": {
    "execution": {
     "iopub.execute_input": "2023-06-01T20:26:59.258097Z",
     "iopub.status.busy": "2023-06-01T20:26:59.257685Z",
     "iopub.status.idle": "2023-06-01T20:26:59.265884Z",
     "shell.execute_reply": "2023-06-01T20:26:59.265029Z"
    },
    "papermill": {
     "duration": 0.033624,
     "end_time": "2023-06-01T20:26:59.267994",
     "exception": false,
     "start_time": "2023-06-01T20:26:59.234370",
     "status": "completed"
    },
    "tags": []
   },
   "outputs": [
    {
     "data": {
      "text/plain": [
       "0.9744641439534268"
      ]
     },
     "execution_count": 24,
     "metadata": {},
     "output_type": "execute_result"
    }
   ],
   "source": [
    "from sklearn.metrics import accuracy_score\n",
    "accuracy_score(y_test,knn_y_pred)"
   ]
  },
  {
   "cell_type": "code",
   "execution_count": 25,
   "id": "935264c3",
   "metadata": {
    "execution": {
     "iopub.execute_input": "2023-06-01T20:26:59.313760Z",
     "iopub.status.busy": "2023-06-01T20:26:59.313014Z",
     "iopub.status.idle": "2023-06-01T20:26:59.321341Z",
     "shell.execute_reply": "2023-06-01T20:26:59.319985Z"
    },
    "papermill": {
     "duration": 0.033981,
     "end_time": "2023-06-01T20:26:59.323973",
     "exception": false,
     "start_time": "2023-06-01T20:26:59.289992",
     "status": "completed"
    },
    "tags": []
   },
   "outputs": [
    {
     "name": "stdout",
     "output_type": "stream",
     "text": [
      "Error Rate: 0.025535856046573158\n"
     ]
    }
   ],
   "source": [
    "error_rate = 1.0 - metrics.accuracy_score(y_test,knn_y_pred)\n",
    "print(\"Error Rate:\", error_rate)"
   ]
  },
  {
   "cell_type": "code",
   "execution_count": 26,
   "id": "91b69b99",
   "metadata": {
    "execution": {
     "iopub.execute_input": "2023-06-01T20:26:59.370504Z",
     "iopub.status.busy": "2023-06-01T20:26:59.370110Z",
     "iopub.status.idle": "2023-06-01T20:26:59.381568Z",
     "shell.execute_reply": "2023-06-01T20:26:59.380304Z"
    },
    "papermill": {
     "duration": 0.038179,
     "end_time": "2023-06-01T20:26:59.383953",
     "exception": false,
     "start_time": "2023-06-01T20:26:59.345774",
     "status": "completed"
    },
    "tags": []
   },
   "outputs": [
    {
     "name": "stdout",
     "output_type": "stream",
     "text": [
      "Sensitivity: 0.9744641439534268\n"
     ]
    }
   ],
   "source": [
    "sensitivity = metrics.recall_score(y_test,knn_y_pred,average='weighted')\n",
    "print(\"Sensitivity:\", sensitivity)"
   ]
  },
  {
   "cell_type": "code",
   "execution_count": 27,
   "id": "d70d3b39",
   "metadata": {
    "execution": {
     "iopub.execute_input": "2023-06-01T20:26:59.429282Z",
     "iopub.status.busy": "2023-06-01T20:26:59.428837Z",
     "iopub.status.idle": "2023-06-01T20:26:59.438417Z",
     "shell.execute_reply": "2023-06-01T20:26:59.436936Z"
    },
    "papermill": {
     "duration": 0.035326,
     "end_time": "2023-06-01T20:26:59.440819",
     "exception": false,
     "start_time": "2023-06-01T20:26:59.405493",
     "status": "completed"
    },
    "tags": []
   },
   "outputs": [
    {
     "name": "stdout",
     "output_type": "stream",
     "text": [
      "Specificity: 0.9802955665024631\n"
     ]
    }
   ],
   "source": [
    "def calculate_specificity(y_true, knn_y_pred, class_label):\n",
    "    true_negative = np.sum((y_true != class_label) & (knn_y_pred != class_label))\n",
    "    false_positive = np.sum((y_true != class_label) & (knn_y_pred == class_label))\n",
    "    specificity = true_negative / (true_negative + false_positive)\n",
    "    return specificity\n",
    "class_label = 0  \n",
    "specificity = calculate_specificity(y_test, knn_y_pred, class_label)\n",
    "print(\"Specificity:\", specificity)"
   ]
  },
  {
   "cell_type": "code",
   "execution_count": 28,
   "id": "1ba81101",
   "metadata": {
    "execution": {
     "iopub.execute_input": "2023-06-01T20:26:59.485886Z",
     "iopub.status.busy": "2023-06-01T20:26:59.485460Z",
     "iopub.status.idle": "2023-06-01T20:26:59.497078Z",
     "shell.execute_reply": "2023-06-01T20:26:59.495734Z"
    },
    "papermill": {
     "duration": 0.037134,
     "end_time": "2023-06-01T20:26:59.499616",
     "exception": false,
     "start_time": "2023-06-01T20:26:59.462482",
     "status": "completed"
    },
    "tags": []
   },
   "outputs": [
    {
     "name": "stdout",
     "output_type": "stream",
     "text": [
      "F1-score 0.9744553117820065\n"
     ]
    }
   ],
   "source": [
    "f1_score = metrics.f1_score(y_test,knn_y_pred,average='weighted')\n",
    "print(\"F1-score\", f1_score)"
   ]
  },
  {
   "cell_type": "markdown",
   "id": "ba2ab8fb",
   "metadata": {
    "papermill": {
     "duration": 0.022526,
     "end_time": "2023-06-01T20:27:05.917861",
     "exception": false,
     "start_time": "2023-06-01T20:27:05.895335",
     "status": "completed"
    },
    "tags": []
   },
   "source": [
    "# Logistic Regression"
   ]
  },
  {
   "cell_type": "code",
   "execution_count": 29,
   "id": "7a9a3bcb",
   "metadata": {
    "execution": {
     "iopub.execute_input": "2023-06-01T20:27:05.965006Z",
     "iopub.status.busy": "2023-06-01T20:27:05.964229Z",
     "iopub.status.idle": "2023-06-01T20:27:05.969707Z",
     "shell.execute_reply": "2023-06-01T20:27:05.968685Z"
    },
    "papermill": {
     "duration": 0.031551,
     "end_time": "2023-06-01T20:27:05.971990",
     "exception": false,
     "start_time": "2023-06-01T20:27:05.940439",
     "status": "completed"
    },
    "tags": []
   },
   "outputs": [],
   "source": [
    "from sklearn.linear_model import LogisticRegression\n",
    "from sklearn import metrics"
   ]
  },
  {
   "cell_type": "code",
   "execution_count": 30,
   "id": "358aad7d",
   "metadata": {
    "execution": {
     "iopub.execute_input": "2023-06-01T20:27:06.019590Z",
     "iopub.status.busy": "2023-06-01T20:27:06.019196Z",
     "iopub.status.idle": "2023-06-01T20:27:06.023398Z",
     "shell.execute_reply": "2023-06-01T20:27:06.022432Z"
    },
    "papermill": {
     "duration": 0.031089,
     "end_time": "2023-06-01T20:27:06.025648",
     "exception": false,
     "start_time": "2023-06-01T20:27:05.994559",
     "status": "completed"
    },
    "tags": []
   },
   "outputs": [],
   "source": [
    "Lr = LogisticRegression()"
   ]
  },
  {
   "cell_type": "code",
   "execution_count": 31,
   "id": "88923853",
   "metadata": {
    "execution": {
     "iopub.execute_input": "2023-06-01T20:27:06.073494Z",
     "iopub.status.busy": "2023-06-01T20:27:06.072256Z",
     "iopub.status.idle": "2023-06-01T20:27:06.162091Z",
     "shell.execute_reply": "2023-06-01T20:27:06.161003Z"
    },
    "papermill": {
     "duration": 0.117966,
     "end_time": "2023-06-01T20:27:06.166381",
     "exception": false,
     "start_time": "2023-06-01T20:27:06.048415",
     "status": "completed"
    },
    "tags": []
   },
   "outputs": [
    {
     "data": {
      "text/html": [
       "<style>#sk-container-id-2 {color: black;background-color: white;}#sk-container-id-2 pre{padding: 0;}#sk-container-id-2 div.sk-toggleable {background-color: white;}#sk-container-id-2 label.sk-toggleable__label {cursor: pointer;display: block;width: 100%;margin-bottom: 0;padding: 0.3em;box-sizing: border-box;text-align: center;}#sk-container-id-2 label.sk-toggleable__label-arrow:before {content: \"▸\";float: left;margin-right: 0.25em;color: #696969;}#sk-container-id-2 label.sk-toggleable__label-arrow:hover:before {color: black;}#sk-container-id-2 div.sk-estimator:hover label.sk-toggleable__label-arrow:before {color: black;}#sk-container-id-2 div.sk-toggleable__content {max-height: 0;max-width: 0;overflow: hidden;text-align: left;background-color: #f0f8ff;}#sk-container-id-2 div.sk-toggleable__content pre {margin: 0.2em;color: black;border-radius: 0.25em;background-color: #f0f8ff;}#sk-container-id-2 input.sk-toggleable__control:checked~div.sk-toggleable__content {max-height: 200px;max-width: 100%;overflow: auto;}#sk-container-id-2 input.sk-toggleable__control:checked~label.sk-toggleable__label-arrow:before {content: \"▾\";}#sk-container-id-2 div.sk-estimator input.sk-toggleable__control:checked~label.sk-toggleable__label {background-color: #d4ebff;}#sk-container-id-2 div.sk-label input.sk-toggleable__control:checked~label.sk-toggleable__label {background-color: #d4ebff;}#sk-container-id-2 input.sk-hidden--visually {border: 0;clip: rect(1px 1px 1px 1px);clip: rect(1px, 1px, 1px, 1px);height: 1px;margin: -1px;overflow: hidden;padding: 0;position: absolute;width: 1px;}#sk-container-id-2 div.sk-estimator {font-family: monospace;background-color: #f0f8ff;border: 1px dotted black;border-radius: 0.25em;box-sizing: border-box;margin-bottom: 0.5em;}#sk-container-id-2 div.sk-estimator:hover {background-color: #d4ebff;}#sk-container-id-2 div.sk-parallel-item::after {content: \"\";width: 100%;border-bottom: 1px solid gray;flex-grow: 1;}#sk-container-id-2 div.sk-label:hover label.sk-toggleable__label {background-color: #d4ebff;}#sk-container-id-2 div.sk-serial::before {content: \"\";position: absolute;border-left: 1px solid gray;box-sizing: border-box;top: 0;bottom: 0;left: 50%;z-index: 0;}#sk-container-id-2 div.sk-serial {display: flex;flex-direction: column;align-items: center;background-color: white;padding-right: 0.2em;padding-left: 0.2em;position: relative;}#sk-container-id-2 div.sk-item {position: relative;z-index: 1;}#sk-container-id-2 div.sk-parallel {display: flex;align-items: stretch;justify-content: center;background-color: white;position: relative;}#sk-container-id-2 div.sk-item::before, #sk-container-id-2 div.sk-parallel-item::before {content: \"\";position: absolute;border-left: 1px solid gray;box-sizing: border-box;top: 0;bottom: 0;left: 50%;z-index: -1;}#sk-container-id-2 div.sk-parallel-item {display: flex;flex-direction: column;z-index: 1;position: relative;background-color: white;}#sk-container-id-2 div.sk-parallel-item:first-child::after {align-self: flex-end;width: 50%;}#sk-container-id-2 div.sk-parallel-item:last-child::after {align-self: flex-start;width: 50%;}#sk-container-id-2 div.sk-parallel-item:only-child::after {width: 0;}#sk-container-id-2 div.sk-dashed-wrapped {border: 1px dashed gray;margin: 0 0.4em 0.5em 0.4em;box-sizing: border-box;padding-bottom: 0.4em;background-color: white;}#sk-container-id-2 div.sk-label label {font-family: monospace;font-weight: bold;display: inline-block;line-height: 1.2em;}#sk-container-id-2 div.sk-label-container {text-align: center;}#sk-container-id-2 div.sk-container {/* jupyter's `normalize.less` sets `[hidden] { display: none; }` but bootstrap.min.css set `[hidden] { display: none !important; }` so we also need the `!important` here to be able to override the default hidden behavior on the sphinx rendered scikit-learn.org. See: https://github.com/scikit-learn/scikit-learn/issues/21755 */display: inline-block !important;position: relative;}#sk-container-id-2 div.sk-text-repr-fallback {display: none;}</style><div id=\"sk-container-id-2\" class=\"sk-top-container\"><div class=\"sk-text-repr-fallback\"><pre>LogisticRegression()</pre><b>In a Jupyter environment, please rerun this cell to show the HTML representation or trust the notebook. <br />On GitHub, the HTML representation is unable to render, please try loading this page with nbviewer.org.</b></div><div class=\"sk-container\" hidden><div class=\"sk-item\"><div class=\"sk-estimator sk-toggleable\"><input class=\"sk-toggleable__control sk-hidden--visually\" id=\"sk-estimator-id-2\" type=\"checkbox\" checked><label for=\"sk-estimator-id-2\" class=\"sk-toggleable__label sk-toggleable__label-arrow\">LogisticRegression</label><div class=\"sk-toggleable__content\"><pre>LogisticRegression()</pre></div></div></div></div></div>"
      ],
      "text/plain": [
       "LogisticRegression()"
      ]
     },
     "execution_count": 31,
     "metadata": {},
     "output_type": "execute_result"
    }
   ],
   "source": [
    "Lr.fit(x_train,y_train)"
   ]
  },
  {
   "cell_type": "code",
   "execution_count": 32,
   "id": "14622f94",
   "metadata": {
    "execution": {
     "iopub.execute_input": "2023-06-01T20:27:06.266105Z",
     "iopub.status.busy": "2023-06-01T20:27:06.265367Z",
     "iopub.status.idle": "2023-06-01T20:27:06.277624Z",
     "shell.execute_reply": "2023-06-01T20:27:06.276166Z"
    },
    "papermill": {
     "duration": 0.06748,
     "end_time": "2023-06-01T20:27:06.282227",
     "exception": false,
     "start_time": "2023-06-01T20:27:06.214747",
     "status": "completed"
    },
    "tags": []
   },
   "outputs": [],
   "source": [
    "y_pred = Lr.predict(x_test)"
   ]
  },
  {
   "cell_type": "code",
   "execution_count": 33,
   "id": "36d3fc9d",
   "metadata": {},
   "outputs": [],
   "source": [
    "y_pred_prob = Lr.predict_proba(x_test)"
   ]
  },
  {
   "cell_type": "code",
   "execution_count": 34,
   "id": "7b36f38c",
   "metadata": {
    "execution": {
     "iopub.execute_input": "2023-06-01T20:27:06.381418Z",
     "iopub.status.busy": "2023-06-01T20:27:06.380701Z",
     "iopub.status.idle": "2023-06-01T20:27:06.394807Z",
     "shell.execute_reply": "2023-06-01T20:27:06.393647Z"
    },
    "papermill": {
     "duration": 0.071881,
     "end_time": "2023-06-01T20:27:06.402855",
     "exception": false,
     "start_time": "2023-06-01T20:27:06.330974",
     "status": "completed"
    },
    "tags": []
   },
   "outputs": [
    {
     "name": "stdout",
     "output_type": "stream",
     "text": [
      "Accuracy of Logistic Regression is:  93.8872717650172 %\n"
     ]
    }
   ],
   "source": [
    "print('Accuracy of Logistic Regression is: ', Lr.score(x_test,y_test) * 100,'%')"
   ]
  },
  {
   "cell_type": "code",
   "execution_count": 35,
   "id": "fa0f9b67",
   "metadata": {
    "execution": {
     "iopub.execute_input": "2023-06-01T20:27:06.502993Z",
     "iopub.status.busy": "2023-06-01T20:27:06.502282Z",
     "iopub.status.idle": "2023-06-01T20:27:06.512987Z",
     "shell.execute_reply": "2023-06-01T20:27:06.511585Z"
    },
    "papermill": {
     "duration": 0.064158,
     "end_time": "2023-06-01T20:27:06.515300",
     "exception": false,
     "start_time": "2023-06-01T20:27:06.451142",
     "status": "completed"
    },
    "tags": []
   },
   "outputs": [
    {
     "name": "stdout",
     "output_type": "stream",
     "text": [
      "Error Rate: 0.061127282349828005\n"
     ]
    }
   ],
   "source": [
    "error_rate = 1.0 - metrics.accuracy_score(y_test,y_pred)\n",
    "print(\"Error Rate:\", error_rate)"
   ]
  },
  {
   "cell_type": "code",
   "execution_count": 36,
   "id": "f60f7e2f",
   "metadata": {
    "execution": {
     "iopub.execute_input": "2023-06-01T20:27:06.563451Z",
     "iopub.status.busy": "2023-06-01T20:27:06.562660Z",
     "iopub.status.idle": "2023-06-01T20:27:06.574231Z",
     "shell.execute_reply": "2023-06-01T20:27:06.572932Z"
    },
    "papermill": {
     "duration": 0.038803,
     "end_time": "2023-06-01T20:27:06.576935",
     "exception": false,
     "start_time": "2023-06-01T20:27:06.538132",
     "status": "completed"
    },
    "tags": []
   },
   "outputs": [
    {
     "name": "stdout",
     "output_type": "stream",
     "text": [
      "Sensitivity: 0.938872717650172\n"
     ]
    }
   ],
   "source": [
    "sensitivity = metrics.recall_score(y_test,y_pred,average='weighted')\n",
    "print(\"Sensitivity:\", sensitivity)"
   ]
  },
  {
   "cell_type": "code",
   "execution_count": 37,
   "id": "5bf23bf4",
   "metadata": {
    "execution": {
     "iopub.execute_input": "2023-06-01T20:27:06.625855Z",
     "iopub.status.busy": "2023-06-01T20:27:06.625438Z",
     "iopub.status.idle": "2023-06-01T20:27:06.633643Z",
     "shell.execute_reply": "2023-06-01T20:27:06.632799Z"
    },
    "papermill": {
     "duration": 0.035479,
     "end_time": "2023-06-01T20:27:06.636114",
     "exception": false,
     "start_time": "2023-06-01T20:27:06.600635",
     "status": "completed"
    },
    "tags": []
   },
   "outputs": [
    {
     "name": "stdout",
     "output_type": "stream",
     "text": [
      "Specificity: 0.9536945812807882\n"
     ]
    }
   ],
   "source": [
    "def calculate_specificity(y_true, y_pred, class_label):\n",
    "    true_negative = np.sum((y_true != class_label) & (y_pred != class_label))\n",
    "    false_positive = np.sum((y_true != class_label) & (y_pred == class_label))\n",
    "    specificity = true_negative / (true_negative + false_positive)\n",
    "    return specificity\n",
    "class_label = 0  \n",
    "specificity = calculate_specificity(y_test, y_pred, class_label)\n",
    "print(\"Specificity:\", specificity)"
   ]
  },
  {
   "cell_type": "code",
   "execution_count": 38,
   "id": "6fdf44d8",
   "metadata": {
    "execution": {
     "iopub.execute_input": "2023-06-01T20:27:06.684252Z",
     "iopub.status.busy": "2023-06-01T20:27:06.683788Z",
     "iopub.status.idle": "2023-06-01T20:27:06.696069Z",
     "shell.execute_reply": "2023-06-01T20:27:06.694891Z"
    },
    "papermill": {
     "duration": 0.039285,
     "end_time": "2023-06-01T20:27:06.698407",
     "exception": false,
     "start_time": "2023-06-01T20:27:06.659122",
     "status": "completed"
    },
    "tags": []
   },
   "outputs": [
    {
     "name": "stdout",
     "output_type": "stream",
     "text": [
      "F1-score 0.9388126419300873\n"
     ]
    }
   ],
   "source": [
    "f1_score = metrics.f1_score(y_test,y_pred,average='weighted')\n",
    "print(\"F1-score\", f1_score)"
   ]
  },
  {
   "cell_type": "markdown",
   "id": "81c841b5",
   "metadata": {
    "papermill": {
     "duration": 0.023981,
     "end_time": "2023-06-01T20:27:09.209387",
     "exception": false,
     "start_time": "2023-06-01T20:27:09.185406",
     "status": "completed"
    },
    "tags": []
   },
   "source": [
    "# Random Forest"
   ]
  },
  {
   "cell_type": "code",
   "execution_count": 39,
   "id": "6bd5a35c",
   "metadata": {
    "execution": {
     "iopub.execute_input": "2023-06-01T20:27:09.260681Z",
     "iopub.status.busy": "2023-06-01T20:27:09.259575Z",
     "iopub.status.idle": "2023-06-01T20:27:09.954178Z",
     "shell.execute_reply": "2023-06-01T20:27:09.953377Z"
    },
    "papermill": {
     "duration": 0.722346,
     "end_time": "2023-06-01T20:27:09.956351",
     "exception": false,
     "start_time": "2023-06-01T20:27:09.234005",
     "status": "completed"
    },
    "tags": []
   },
   "outputs": [
    {
     "data": {
      "text/html": [
       "<style>#sk-container-id-3 {color: black;background-color: white;}#sk-container-id-3 pre{padding: 0;}#sk-container-id-3 div.sk-toggleable {background-color: white;}#sk-container-id-3 label.sk-toggleable__label {cursor: pointer;display: block;width: 100%;margin-bottom: 0;padding: 0.3em;box-sizing: border-box;text-align: center;}#sk-container-id-3 label.sk-toggleable__label-arrow:before {content: \"▸\";float: left;margin-right: 0.25em;color: #696969;}#sk-container-id-3 label.sk-toggleable__label-arrow:hover:before {color: black;}#sk-container-id-3 div.sk-estimator:hover label.sk-toggleable__label-arrow:before {color: black;}#sk-container-id-3 div.sk-toggleable__content {max-height: 0;max-width: 0;overflow: hidden;text-align: left;background-color: #f0f8ff;}#sk-container-id-3 div.sk-toggleable__content pre {margin: 0.2em;color: black;border-radius: 0.25em;background-color: #f0f8ff;}#sk-container-id-3 input.sk-toggleable__control:checked~div.sk-toggleable__content {max-height: 200px;max-width: 100%;overflow: auto;}#sk-container-id-3 input.sk-toggleable__control:checked~label.sk-toggleable__label-arrow:before {content: \"▾\";}#sk-container-id-3 div.sk-estimator input.sk-toggleable__control:checked~label.sk-toggleable__label {background-color: #d4ebff;}#sk-container-id-3 div.sk-label input.sk-toggleable__control:checked~label.sk-toggleable__label {background-color: #d4ebff;}#sk-container-id-3 input.sk-hidden--visually {border: 0;clip: rect(1px 1px 1px 1px);clip: rect(1px, 1px, 1px, 1px);height: 1px;margin: -1px;overflow: hidden;padding: 0;position: absolute;width: 1px;}#sk-container-id-3 div.sk-estimator {font-family: monospace;background-color: #f0f8ff;border: 1px dotted black;border-radius: 0.25em;box-sizing: border-box;margin-bottom: 0.5em;}#sk-container-id-3 div.sk-estimator:hover {background-color: #d4ebff;}#sk-container-id-3 div.sk-parallel-item::after {content: \"\";width: 100%;border-bottom: 1px solid gray;flex-grow: 1;}#sk-container-id-3 div.sk-label:hover label.sk-toggleable__label {background-color: #d4ebff;}#sk-container-id-3 div.sk-serial::before {content: \"\";position: absolute;border-left: 1px solid gray;box-sizing: border-box;top: 0;bottom: 0;left: 50%;z-index: 0;}#sk-container-id-3 div.sk-serial {display: flex;flex-direction: column;align-items: center;background-color: white;padding-right: 0.2em;padding-left: 0.2em;position: relative;}#sk-container-id-3 div.sk-item {position: relative;z-index: 1;}#sk-container-id-3 div.sk-parallel {display: flex;align-items: stretch;justify-content: center;background-color: white;position: relative;}#sk-container-id-3 div.sk-item::before, #sk-container-id-3 div.sk-parallel-item::before {content: \"\";position: absolute;border-left: 1px solid gray;box-sizing: border-box;top: 0;bottom: 0;left: 50%;z-index: -1;}#sk-container-id-3 div.sk-parallel-item {display: flex;flex-direction: column;z-index: 1;position: relative;background-color: white;}#sk-container-id-3 div.sk-parallel-item:first-child::after {align-self: flex-end;width: 50%;}#sk-container-id-3 div.sk-parallel-item:last-child::after {align-self: flex-start;width: 50%;}#sk-container-id-3 div.sk-parallel-item:only-child::after {width: 0;}#sk-container-id-3 div.sk-dashed-wrapped {border: 1px dashed gray;margin: 0 0.4em 0.5em 0.4em;box-sizing: border-box;padding-bottom: 0.4em;background-color: white;}#sk-container-id-3 div.sk-label label {font-family: monospace;font-weight: bold;display: inline-block;line-height: 1.2em;}#sk-container-id-3 div.sk-label-container {text-align: center;}#sk-container-id-3 div.sk-container {/* jupyter's `normalize.less` sets `[hidden] { display: none; }` but bootstrap.min.css set `[hidden] { display: none !important; }` so we also need the `!important` here to be able to override the default hidden behavior on the sphinx rendered scikit-learn.org. See: https://github.com/scikit-learn/scikit-learn/issues/21755 */display: inline-block !important;position: relative;}#sk-container-id-3 div.sk-text-repr-fallback {display: none;}</style><div id=\"sk-container-id-3\" class=\"sk-top-container\"><div class=\"sk-text-repr-fallback\"><pre>RandomForestClassifier(n_estimators=50)</pre><b>In a Jupyter environment, please rerun this cell to show the HTML representation or trust the notebook. <br />On GitHub, the HTML representation is unable to render, please try loading this page with nbviewer.org.</b></div><div class=\"sk-container\" hidden><div class=\"sk-item\"><div class=\"sk-estimator sk-toggleable\"><input class=\"sk-toggleable__control sk-hidden--visually\" id=\"sk-estimator-id-3\" type=\"checkbox\" checked><label for=\"sk-estimator-id-3\" class=\"sk-toggleable__label sk-toggleable__label-arrow\">RandomForestClassifier</label><div class=\"sk-toggleable__content\"><pre>RandomForestClassifier(n_estimators=50)</pre></div></div></div></div></div>"
      ],
      "text/plain": [
       "RandomForestClassifier(n_estimators=50)"
      ]
     },
     "execution_count": 39,
     "metadata": {},
     "output_type": "execute_result"
    }
   ],
   "source": [
    "from sklearn.ensemble import RandomForestClassifier\n",
    "rf = RandomForestClassifier(n_estimators=50)\n",
    "rf.fit(x_train,y_train)"
   ]
  },
  {
   "cell_type": "code",
   "execution_count": 40,
   "id": "e01f3282",
   "metadata": {
    "execution": {
     "iopub.execute_input": "2023-06-01T20:27:10.006212Z",
     "iopub.status.busy": "2023-06-01T20:27:10.005806Z",
     "iopub.status.idle": "2023-06-01T20:27:10.053164Z",
     "shell.execute_reply": "2023-06-01T20:27:10.052046Z"
    },
    "papermill": {
     "duration": 0.07579,
     "end_time": "2023-06-01T20:27:10.055964",
     "exception": false,
     "start_time": "2023-06-01T20:27:09.980174",
     "status": "completed"
    },
    "tags": []
   },
   "outputs": [],
   "source": [
    "clf_y_pred = rf.predict(x_test)"
   ]
  },
  {
   "cell_type": "code",
   "execution_count": 41,
   "id": "dbb9816b",
   "metadata": {},
   "outputs": [],
   "source": [
    "clf_y_pred_prob = rf.predict_proba(x_test)"
   ]
  },
  {
   "cell_type": "code",
   "execution_count": 42,
   "id": "b5ce5ba9",
   "metadata": {
    "execution": {
     "iopub.execute_input": "2023-06-01T20:27:10.105983Z",
     "iopub.status.busy": "2023-06-01T20:27:10.105555Z",
     "iopub.status.idle": "2023-06-01T20:27:10.113332Z",
     "shell.execute_reply": "2023-06-01T20:27:10.112177Z"
    },
    "papermill": {
     "duration": 0.035392,
     "end_time": "2023-06-01T20:27:10.115428",
     "exception": false,
     "start_time": "2023-06-01T20:27:10.080036",
     "status": "completed"
    },
    "tags": []
   },
   "outputs": [
    {
     "name": "stdout",
     "output_type": "stream",
     "text": [
      "Accuracy: 0.9952368351415718\n"
     ]
    }
   ],
   "source": [
    "from sklearn.metrics import accuracy_score\n",
    "accuracy = accuracy_score(y_test,clf_y_pred)\n",
    "print(\"Accuracy:\", accuracy)"
   ]
  },
  {
   "cell_type": "code",
   "execution_count": 43,
   "id": "f9762a37",
   "metadata": {
    "execution": {
     "iopub.execute_input": "2023-06-01T20:27:10.166116Z",
     "iopub.status.busy": "2023-06-01T20:27:10.165686Z",
     "iopub.status.idle": "2023-06-01T20:27:10.173400Z",
     "shell.execute_reply": "2023-06-01T20:27:10.172147Z"
    },
    "papermill": {
     "duration": 0.03582,
     "end_time": "2023-06-01T20:27:10.175683",
     "exception": false,
     "start_time": "2023-06-01T20:27:10.139863",
     "status": "completed"
    },
    "tags": []
   },
   "outputs": [
    {
     "name": "stdout",
     "output_type": "stream",
     "text": [
      "Error Rate: 0.004763164858428204\n"
     ]
    }
   ],
   "source": [
    "error_rate = 1.0 - metrics.accuracy_score(y_test,clf_y_pred)\n",
    "print(\"Error Rate:\", error_rate)"
   ]
  },
  {
   "cell_type": "code",
   "execution_count": 44,
   "id": "3b75c0ef",
   "metadata": {
    "execution": {
     "iopub.execute_input": "2023-06-01T20:27:10.226813Z",
     "iopub.status.busy": "2023-06-01T20:27:10.226423Z",
     "iopub.status.idle": "2023-06-01T20:27:10.238181Z",
     "shell.execute_reply": "2023-06-01T20:27:10.236797Z"
    },
    "papermill": {
     "duration": 0.039698,
     "end_time": "2023-06-01T20:27:10.240303",
     "exception": false,
     "start_time": "2023-06-01T20:27:10.200605",
     "status": "completed"
    },
    "tags": []
   },
   "outputs": [
    {
     "name": "stdout",
     "output_type": "stream",
     "text": [
      "Sensitivity: 0.9952368351415718\n"
     ]
    }
   ],
   "source": [
    "sensitivity = metrics.recall_score(y_test,clf_y_pred,average='weighted')\n",
    "print(\"Sensitivity:\", sensitivity)"
   ]
  },
  {
   "cell_type": "code",
   "execution_count": 45,
   "id": "9ab5af51",
   "metadata": {
    "execution": {
     "iopub.execute_input": "2023-06-01T20:27:10.291066Z",
     "iopub.status.busy": "2023-06-01T20:27:10.290477Z",
     "iopub.status.idle": "2023-06-01T20:27:10.299787Z",
     "shell.execute_reply": "2023-06-01T20:27:10.298812Z"
    },
    "papermill": {
     "duration": 0.03729,
     "end_time": "2023-06-01T20:27:10.301914",
     "exception": false,
     "start_time": "2023-06-01T20:27:10.264624",
     "status": "completed"
    },
    "tags": []
   },
   "outputs": [
    {
     "name": "stdout",
     "output_type": "stream",
     "text": [
      "Specificity: 0.9958128078817734\n"
     ]
    }
   ],
   "source": [
    "def calculate_specificity(y_true, clf_y_pred, class_label):\n",
    "    true_negative = np.sum((y_true != class_label) & (clf_y_pred != class_label))\n",
    "    false_positive = np.sum((y_true != class_label) & (clf_y_pred == class_label))\n",
    "    specificity = true_negative / (true_negative + false_positive)\n",
    "    return specificity\n",
    "class_label = 0  \n",
    "specificity = calculate_specificity(y_test, clf_y_pred, class_label)\n",
    "print(\"Specificity:\", specificity)"
   ]
  },
  {
   "cell_type": "code",
   "execution_count": 46,
   "id": "43811a78",
   "metadata": {
    "execution": {
     "iopub.execute_input": "2023-06-01T20:27:10.353368Z",
     "iopub.status.busy": "2023-06-01T20:27:10.352156Z",
     "iopub.status.idle": "2023-06-01T20:27:10.363621Z",
     "shell.execute_reply": "2023-06-01T20:27:10.362502Z"
    },
    "papermill": {
     "duration": 0.039527,
     "end_time": "2023-06-01T20:27:10.365957",
     "exception": false,
     "start_time": "2023-06-01T20:27:10.326430",
     "status": "completed"
    },
    "tags": []
   },
   "outputs": [
    {
     "name": "stdout",
     "output_type": "stream",
     "text": [
      "F1-score 0.9952367405579152\n"
     ]
    }
   ],
   "source": [
    "f1_score = metrics.f1_score(y_test,clf_y_pred,average='weighted')\n",
    "print(\"F1-score\", f1_score)"
   ]
  },
  {
   "cell_type": "markdown",
   "id": "ee8b3b39",
   "metadata": {},
   "source": [
    "## Save Models"
   ]
  },
  {
   "cell_type": "code",
   "execution_count": null,
   "id": "2a08b0c5",
   "metadata": {},
   "outputs": [],
   "source": [
    "import pickle\n",
    "pickle.dump(knn, open('knn_model.sav', 'wb'))\n",
    "pickle.dump(rf, open('random_forest_model.sav', 'wb'))\n",
    "pickle.dump(Lr, open('logistice_regression_model.sav', 'wb'))"
   ]
  },
  {
   "cell_type": "markdown",
   "id": "645dd648",
   "metadata": {},
   "source": [
    "# Results\n",
    "### Confusion Matrix\n",
    "### Classification Report"
   ]
  },
  {
   "cell_type": "code",
   "execution_count": null,
   "id": "8bd98019",
   "metadata": {},
   "outputs": [],
   "source": [
    "#KNN Model"
   ]
  },
  {
   "cell_type": "code",
   "execution_count": 54,
   "id": "25c9c5e9",
   "metadata": {},
   "outputs": [
    {
     "data": {
      "image/png": "[encoded data removed]",
      "text/plain": [
       "<Figure size 800x600 with 1 Axes>"
      ]
     },
     "metadata": {},
     "output_type": "display_data"
    }
   ],
   "source": [
    "#Confusion Matrics\n",
    "#Confusion Matrics\n",
    "cm=confusion_matrix(y_test,knn_y_pred)\n",
    "plt.figure(figsize=(8,6))\n",
    "sns.heatmap(cm,annot=True,fmt='d',cmap='Blues',cbar=False)\n",
    "plt.title('Confusion Matrix Intrusion Detection KNN_Model')\n",
    "plt.show()"
   ]
  },
  {
   "cell_type": "code",
   "execution_count": 47,
   "id": "d1fdf809",
   "metadata": {},
   "outputs": [
    {
     "name": "stdout",
     "output_type": "stream",
     "text": [
      "              precision    recall  f1-score   support\n",
      "\n",
      "           0       0.98      0.97      0.97      3498\n",
      "           1       0.98      0.98      0.98      4060\n",
      "\n",
      "    accuracy                           0.98      7558\n",
      "   macro avg       0.98      0.98      0.98      7558\n",
      "weighted avg       0.98      0.98      0.98      7558\n",
      "\n"
     ]
    }
   ],
   "source": [
    "#Classification Report\n",
    "print(classification_report(y_test,knn_y_pred))"
   ]
  },
  {
   "cell_type": "code",
   "execution_count": null,
   "id": "d33c7272",
   "metadata": {},
   "outputs": [],
   "source": [
    "#Random Forest Model"
   ]
  },
  {
   "cell_type": "code",
   "execution_count": 55,
   "id": "d219135e",
   "metadata": {},
   "outputs": [
    {
     "data": {
      "image/png": "[encoded data removed]",
      "text/plain": [
       "<Figure size 800x600 with 1 Axes>"
      ]
     },
     "metadata": {},
     "output_type": "display_data"
    }
   ],
   "source": [
    "#Confusion Matrics\n",
    "cm=confusion_matrix(y_test,clf_y_pred)\n",
    "plt.figure(figsize=(8,6))\n",
    "sns.heatmap(cm,annot=True,fmt='d',cmap='Blues',cbar=False)\n",
    "plt.title('Confusion Matrix Intrusion Detection Random_Forest_Model')\n",
    "plt.show()"
   ]
  },
  {
   "cell_type": "code",
   "execution_count": 49,
   "id": "bdb6359d",
   "metadata": {},
   "outputs": [
    {
     "name": "stdout",
     "output_type": "stream",
     "text": [
      "              precision    recall  f1-score   support\n",
      "\n",
      "           0       1.00      1.00      1.00      3498\n",
      "           1       1.00      1.00      1.00      4060\n",
      "\n",
      "    accuracy                           1.00      7558\n",
      "   macro avg       1.00      1.00      1.00      7558\n",
      "weighted avg       1.00      1.00      1.00      7558\n",
      "\n"
     ]
    }
   ],
   "source": [
    "#Classification Report\n",
    "print(classification_report(y_test,clf_y_pred))"
   ]
  },
  {
   "cell_type": "code",
   "execution_count": null,
   "id": "b27b9e63",
   "metadata": {},
   "outputs": [],
   "source": [
    "#Logistic Regression Model"
   ]
  },
  {
   "cell_type": "code",
   "execution_count": 56,
   "id": "225129ae",
   "metadata": {},
   "outputs": [
    {
     "data": {
      "image/png": "[encoded data removed]",
      "text/plain": [
       "<Figure size 800x600 with 1 Axes>"
      ]
     },
     "metadata": {},
     "output_type": "display_data"
    }
   ],
   "source": [
    "#Confusion Matrics\n",
    "cm=confusion_matrix(y_test,y_pred)\n",
    "plt.figure(figsize=(8,6))\n",
    "sns.heatmap(cm,annot=True,fmt='d',cmap='Blues',cbar=False)\n",
    "plt.title('Confusion Matrix Intrusion Detection Logistic_Regression_Model')\n",
    "plt.show()"
   ]
  },
  {
   "cell_type": "code",
   "execution_count": 48,
   "id": "897315f5",
   "metadata": {},
   "outputs": [
    {
     "name": "stdout",
     "output_type": "stream",
     "text": [
      "              precision    recall  f1-score   support\n",
      "\n",
      "           0       0.94      0.89      0.91      3498\n",
      "           1       0.91      0.95      0.93      4060\n",
      "\n",
      "    accuracy                           0.92      7558\n",
      "   macro avg       0.92      0.92      0.92      7558\n",
      "weighted avg       0.92      0.92      0.92      7558\n",
      "\n"
     ]
    }
   ],
   "source": [
    "#Classification Report\n",
    "print(classification_report(y_test,y_pred))"
   ]
  }
 ],
 "metadata": {
  "kernelspec": {
   "display_name": "Python 3 (ipykernel)",
   "language": "python",
   "name": "python3"
  },
  "language_info": {
   "codemirror_mode": {
    "name": "ipython",
    "version": 3
   },
   "file_extension": ".py",
   "mimetype": "text/x-python",
   "name": "python",
   "nbconvert_exporter": "python",
   "pygments_lexer": "ipython3",
   "version": "3.10.6"
  },
  "papermill": {
   "default_parameters": {},
   "duration": 100.295401,
   "end_time": "2023-06-01T20:27:11.615148",
   "environment_variables": {},
   "exception": null,
   "input_path": "__notebook__.ipynb",
   "output_path": "__notebook__.ipynb",
   "parameters": {},
   "start_time": "2023-06-01T20:25:31.319747",
   "version": "2.4.0"
  },
  "vscode": {
   "interpreter": {
    "hash": "3f2aa69eb57890a835fcde0c330461c388d2c557d9263120cbbb7bce4a617b15"
   }
  }
 },
 "nbformat": 4,
 "nbformat_minor": 5
}
